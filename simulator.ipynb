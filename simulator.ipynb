{
 "cells": [
  {
   "cell_type": "code",
   "execution_count": 2,
   "id": "2a6d27ef",
   "metadata": {},
   "outputs": [],
   "source": [
    "import qutip as qt \n",
    "import qutipext as qte\n",
    "import numpy as np\n",
    "import matplotlib.pyplot as plt\n",
    "import scipy\n",
    "from functools import partial\n",
    "from tensoresprit.Experiment import Experiment\n",
    "from tensoresprit.Extractor import Extractor"
   ]
  },
  {
   "cell_type": "code",
   "execution_count": 3,
   "id": "0583d4a5-bb06-40cb-a3a3-d8a690084ea3",
   "metadata": {},
   "outputs": [
    {
     "name": "stdout",
     "output_type": "stream",
     "text": [
      "[<qutipext.hamiltonian_extension.Lattice object at 0x7f9aaeddfad0>, <qutipext.hamiltonian_extension.Lattice object at 0x7f9aaeddfd90>, <qutipext.hamiltonian_extension.Lattice object at 0x7f9aaed19910>, <qutipext.hamiltonian_extension.Lattice object at 0x7f9aaeddc8d0>, <qutipext.hamiltonian_extension.Lattice object at 0x7f9aaeddc110>, <qutipext.hamiltonian_extension.Lattice object at 0x7f9aaeddca50>, <qutipext.hamiltonian_extension.Lattice object at 0x7f9aaeddff10>, <qutipext.hamiltonian_extension.Lattice object at 0x7f9aaeddc1d0>, <qutipext.hamiltonian_extension.Lattice object at 0x7f9aaeddc990>, <qutipext.hamiltonian_extension.Lattice object at 0x7f9aaeddc5d0>]\n"
     ]
    }
   ],
   "source": [
    "def f(x): return qte.Lattice(\"Chain\",1,x,np.array([[8.7,0]]))\n",
    "xs = np.arange(10)\n",
    "\n",
    "res = qt.parallel_map(f, xs)\n",
    "print(res)"
   ]
  },
  {
   "cell_type": "code",
   "execution_count": 9,
   "id": "79ffa26a",
   "metadata": {},
   "outputs": [],
   "source": [
    "N = 1\n",
    "lattice = qte.Lattice(\"Chain\",1,N,np.array([[8.7,0]]))"
   ]
  },
  {
   "cell_type": "code",
   "execution_count": 10,
   "id": "7d07a482",
   "metadata": {},
   "outputs": [
    {
     "data": {
      "text/plain": [
       "array([[0., 0.]])"
      ]
     },
     "execution_count": 10,
     "metadata": {},
     "output_type": "execute_result"
    }
   ],
   "source": [
    "lattice.positions"
   ]
  },
  {
   "cell_type": "code",
   "execution_count": 6,
   "id": "ad818319",
   "metadata": {},
   "outputs": [
    {
     "data": {
      "image/png": "[encoded data removed]",
      "text/plain": [
       "<Figure size 640x480 with 1 Axes>"
      ]
     },
     "metadata": {},
     "output_type": "display_data"
    }
   ],
   "source": [
    "qte.plot_positions(lattice.positions)"
   ]
  },
  {
   "cell_type": "code",
   "execution_count": 1,
   "id": "3eccd66b",
   "metadata": {},
   "outputs": [
    {
     "ename": "NameError",
     "evalue": "name 'qte' is not defined",
     "output_type": "error",
     "traceback": [
      "\u001b[31m---------------------------------------------------------------------------\u001b[39m",
      "\u001b[31mNameError\u001b[39m                                 Traceback (most recent call last)",
      "\u001b[36mCell\u001b[39m\u001b[36m \u001b[39m\u001b[32mIn[1]\u001b[39m\u001b[32m, line 1\u001b[39m\n\u001b[32m----> \u001b[39m\u001b[32m1\u001b[39m V = \u001b[43mqte\u001b[49m.Interaction(lattice)\n\u001b[32m      2\u001b[39m Detune = -(\u001b[32m2\u001b[39m*np.pi*\u001b[32m2\u001b[39m)*qte.Global_Detuning(lattice)\n\u001b[32m      3\u001b[39m Rabi = (\u001b[32m2\u001b[39m*np.pi*\u001b[32m2\u001b[39m)*qte.Global_X(lattice)\n",
      "\u001b[31mNameError\u001b[39m: name 'qte' is not defined"
     ]
    }
   ],
   "source": [
    "V = qte.Interaction(lattice)\n",
    "Detune = -(2*np.pi*2)*qte.Global_Detuning(lattice)\n",
    "Rabi = (2*np.pi*2)*qte.Global_X(lattice)\n",
    "Local_Detune = qte.Local_Detuning(lattice, np.random.rand((N)))"
   ]
  },
  {
   "cell_type": "code",
   "execution_count": 239,
   "id": "c05cecf2-d8de-4da2-8aeb-4b9e12c92113",
   "metadata": {},
   "outputs": [
    {
     "name": "stdout",
     "output_type": "stream",
     "text": [
      "[0, 0]\n",
      "[1, 0]\n",
      "[0, 0]\n",
      "[1, 0]\n",
      "[1.08845364e-05 2.09871931e-03 2.19748402e-03 1.90698252e-02\n",
      " 1.95296326e-02 1.95296326e-02 2.61021555e-02 8.08530461e-02\n",
      " 1.16386441e-01 1.16386441e-01 1.73934041e-01 1.40852026e+00\n",
      " 1.52210441e+00 2.22268131e+00 5.14157634e+00 5.26270578e+00]\n"
     ]
    }
   ],
   "source": [
    "def pulse(index, t, t_pulse):\n",
    "    return V + Detune + Rabi + qte.Local_Detuning(lattice, [50 * np.sin(2 * np.pi * index * t / t_pulse), 0])\n",
    "    #return V + Detune + Rabi + index * Local_Detune\n",
    "\n",
    "H_const = V + Detune + Rabi + Local_Detune\n",
    "dim = (2**N)**2\n",
    "\n",
    "Ls = []\n",
    "\n",
    "for i in range(dim):\n",
    "    H_const = V + Detune + Rabi + np.sqrt(i) * qte.Local_Detuning(lattice, [1, 0])\n",
    "    Ls.append(qt.liouvillian(H_const))\n",
    "\n",
    "t_pulse = 100.\n",
    "state = np.zeros(dim,dtype=complex)\n",
    "state[0] = 1\n",
    "states = []\n",
    "obs = []\n",
    "for i in range(2**N):\n",
    "    bitstring = [i%2,0]\n",
    "    print(bitstring)\n",
    "    state = qte.bitstring_state(bitstring)*qte.bitstring_state(bitstring).dag()\n",
    "    states.append(qt.operator_to_vector(state).full())\n",
    "    obs.append(qt.operator_to_vector(qte.PauliString([i,0])).full())\n",
    "\n",
    "state = qte.bitstring_state([0 for i in range(N)])\n",
    "rho_0 = qt.operator_to_vector(state * state.dag()).full()\n",
    "obs = qt.operator_to_vector(qte.PauliString([3,0])).full()\n",
    "obs_id = qt.operator_to_vector(qte.PauliString([0,0])).full()\n",
    "mat = np.zeros((dim,dim),dtype=complex)\n",
    "for i, L_init in enumerate(Ls):\n",
    "    for j, L_fin in enumerate(Ls):\n",
    "        #mat[i,j] = obs[j%4].conj().T @ scipy.linalg.expm(t_pulse*L_fin.full()) @ scipy.linalg.expm(t_pulse*L_init.full()) @ states[i%4]\n",
    "        if j == dim-1:\n",
    "            mat[i,j] = obs_id.conj().T @ scipy.linalg.expm(t_pulse*L_fin.full()) @ scipy.linalg.expm(t_pulse*L_init.full()) @ rho_0\n",
    "        else:\n",
    "            mat[i,j] = obs.conj().T @ scipy.linalg.expm(t_pulse*L_fin.full()) @ scipy.linalg.expm(t_pulse*L_init.full()) @ rho_0\n",
    "evals, _ = np.linalg.eig(mat)\n",
    "print(np.sort(np.abs(evals)))\n",
    "\n",
    "def H(i, j, t, t_free, t_pulse):\n",
    "    if t < t_pulse:\n",
    "        return pulse(i, t, t_pulse)\n",
    "    elif t < t_pulse + t_free:\n",
    "        return H_const\n",
    "    else:\n",
    "        return pulse(j, t, t_pulse)"
   ]
  },
  {
   "cell_type": "code",
   "execution_count": 240,
   "id": "f2cf1f0d-06c6-4d17-a220-48ee08d2f036",
   "metadata": {},
   "outputs": [],
   "source": [
    "delta = 0.02\n",
    "no_samples = 50\n",
    "times = delta * np.arange(no_samples)\n",
    "t_pulse = 100."
   ]
  },
  {
   "cell_type": "code",
   "execution_count": null,
   "id": "256e07d9-be9c-4d33-8947-aa0f822a5b03",
   "metadata": {},
   "outputs": [
    {
     "name": "stdout",
     "output_type": "stream",
     "text": [
      "0 0\n"
     ]
    }
   ],
   "source": [
    "#H = V + Detune + Rabi + Local_Detune\n",
    "\n",
    "measured_data = np.zeros((no_samples, dim, dim))\n",
    "\n",
    "rho0 = qte.bitstring_state([0 for i in range(N)])*qte.bitstring_state([0 for i in range(N)]).dag()\n",
    "observable = qte.PauliString([3,0])\n",
    "\n",
    "c_ops = []\n",
    "#Gamma1 = 0.1\n",
    "#Gamma2 = 0.05\n",
    "#for i in range(N):\n",
    "#    tmp = [qt.qeye(2) for j in range(N)]\n",
    "#    tmp[i] = qt.sigmam()\n",
    "#    c_ops.append([np.sqrt(Gamma1)*qt.tensor(tmp),\"1\"])\n",
    "#    c_ops.append([np.sqrt(Gamma2)*qt.tensor(tmp),\"np.sqrt(t)\"])\n",
    "\n",
    "for i in range(dim):\n",
    "    for j in range(dim):\n",
    "        print(i,j)\n",
    "        for k, t_free in enumerate(times):\n",
    "            H_current = qt.QobjEvo(lambda t: H(i, j, t, t_free, t_pulse))\n",
    "            total_time = 2*t_pulse + t_free\n",
    "            solver_times = np.linspace(0,total_time,100)\n",
    "            result = qt.mesolve(H_current, rho0, solver_times, c_ops, observable).expect[0][-1]\n",
    "            measured_data[k, i, j] = result"
   ]
  },
  {
   "cell_type": "code",
   "execution_count": 148,
   "id": "00bd6833",
   "metadata": {},
   "outputs": [
    {
     "name": "stdout",
     "output_type": "stream",
     "text": [
      "(array([-7.69264615e-01, -1.47451574e-04,  1.78171047e+00,  1.40109419e+00]), array([[-0.72136734, -0.44077368, -0.34717692, -0.40651163],\n",
      "       [-0.62706411,  0.1224961 ,  0.33930319,  0.69060964],\n",
      "       [ 0.26805776, -0.6048505 , -0.47169543,  0.58257258],\n",
      "       [-0.1206847 ,  0.65181986, -0.73610119,  0.13570488]]))\n",
      "(50, 4, 4)\n"
     ]
    }
   ],
   "source": [
    "print(np.linalg.eig(measured_data[0,:,:]))\n",
    "print(measured_data.shape)\n",
    "data = Experiment(measured_data, no_samples, delta)\n",
    "\n",
    "solverParams = {'mode':'oscillation'}\n",
    "extractor = Extractor(data, solver=\"tensorESPRIT\", solverParams=solverParams)\n",
    "extractor.extract()"
   ]
  },
  {
   "cell_type": "code",
   "execution_count": 149,
   "id": "9103359d-0dc6-40f5-81d0-a7ec7c727284",
   "metadata": {},
   "outputs": [
    {
     "name": "stdout",
     "output_type": "stream",
     "text": [
      "0.07513130880585803\n",
      "[-1.47081538e+01 -4.04658510e-16  1.24342992e-16  1.47081538e+01]\n",
      "[-1.36031109e+01 -3.39906415e-16  1.66070885e-16  1.36031109e+01]\n"
     ]
    }
   ],
   "source": [
    "true_spectrum,_ = np.linalg.eig(qt.liouvillian(H_const).full())\n",
    "true_spectrum = np.sort((-1j*true_spectrum).real)\n",
    "recovered_spectrum,_ = np.linalg.eig(extractor.noisyGeneratorEstimate())\n",
    "recovered_spectrum = np.sort(recovered_spectrum.real)\n",
    "print(np.linalg.norm(true_spectrum - recovered_spectrum) / np.linalg.norm(true_spectrum))\n",
    "print(true_spectrum)\n",
    "print(recovered_spectrum.real)"
   ]
  },
  {
   "cell_type": "code",
   "execution_count": null,
   "id": "85e7d0f2-adc4-466f-a0c2-463b3661f9b6",
   "metadata": {},
   "outputs": [],
   "source": []
  }
 ],
 "metadata": {
  "kernelspec": {
   "display_name": "Python 3 (ipykernel)",
   "language": "python",
   "name": "python3"
  },
  "language_info": {
   "codemirror_mode": {
    "name": "ipython",
    "version": 3
   },
   "file_extension": ".py",
   "mimetype": "text/x-python",
   "name": "python",
   "nbconvert_exporter": "python",
   "pygments_lexer": "ipython3",
   "version": "3.11.11"
  }
 },
 "nbformat": 4,
 "nbformat_minor": 5
}
